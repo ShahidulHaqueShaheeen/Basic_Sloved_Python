{
 "cells": [
  {
   "cell_type": "code",
   "execution_count": 35,
   "id": "983c20a5",
   "metadata": {},
   "outputs": [],
   "source": [
    "class Node:\n",
    "    def __init__(self,data,ref):\n",
    "        self.value = data\n",
    "        self.next = ref"
   ]
  },
  {
   "cell_type": "code",
   "execution_count": 36,
   "id": "fa888082",
   "metadata": {},
   "outputs": [],
   "source": [
    "class linked_list:\n",
    "    def __init__(self,array):\n",
    "        \n",
    "        self.head = None\n",
    "        self.tail = None\n",
    "        \n",
    "        for i in array:\n",
    "            \n",
    "            node = Node(i,None)\n",
    "            if self.head == None:\n",
    "                self.head = node\n",
    "                self.tail = node\n",
    "            else:\n",
    "                self.tail.next = node\n",
    "                self.tail = node\n",
    "     "
   ]
  },
  {
   "cell_type": "code",
   "execution_count": 10,
   "id": "a5baca2c",
   "metadata": {},
   "outputs": [],
   "source": [
    "lst = [1,2,4,6,8]"
   ]
  },
  {
   "cell_type": "code",
   "execution_count": 11,
   "id": "c60d4d2e",
   "metadata": {},
   "outputs": [],
   "source": [
    "x = linked_list(lst)"
   ]
  },
  {
   "cell_type": "code",
   "execution_count": 12,
   "id": "fcbdfe55",
   "metadata": {},
   "outputs": [
    {
     "name": "stdout",
     "output_type": "stream",
     "text": [
      "[1, 2, 4, 6, 8]\n"
     ]
    }
   ],
   "source": [
    "print(lst)"
   ]
  },
  {
   "cell_type": "code",
   "execution_count": 13,
   "id": "0587c09d",
   "metadata": {},
   "outputs": [
    {
     "data": {
      "text/plain": [
       "1"
      ]
     },
     "execution_count": 13,
     "metadata": {},
     "output_type": "execute_result"
    }
   ],
   "source": [
    "x.head.value"
   ]
  },
  {
   "cell_type": "code",
   "execution_count": 37,
   "id": "4318106c",
   "metadata": {},
   "outputs": [
    {
     "name": "stdout",
     "output_type": "stream",
     "text": [
      "1 2 4 6 8 10 "
     ]
    }
   ],
   "source": [
    "# Print all the elements from the linked list and show if it is empty\n",
    "\n",
    "def showlist(head):\n",
    "    temp = head.head\n",
    "    if temp is None:\n",
    "        print(\"Empty\")\n",
    "        \n",
    "    else:   \n",
    "        while temp:\n",
    "            print(temp.value,end=' ')\n",
    "            temp = temp.next\n",
    "        \n",
    "showlist(x)"
   ]
  },
  {
   "cell_type": "code",
   "execution_count": 20,
   "id": "0efc2f1c",
   "metadata": {},
   "outputs": [],
   "source": [
    "# insert a new element at the end\n",
    "\n",
    "def insert(head, element):\n",
    "    temp = head.head\n",
    "    \n",
    "    while temp.next:\n",
    "        if temp.value == element:\n",
    "            print(\"The value is already existed\")\n",
    "            return None\n",
    "        else:\n",
    "            temp = temp.next\n",
    "            \n",
    "    node = Node(element,None)\n",
    "    temp.next = node\n",
    "    \n",
    "insert(x, 10)"
   ]
  },
  {
   "cell_type": "code",
   "execution_count": 21,
   "id": "cc3607d0",
   "metadata": {},
   "outputs": [
    {
     "name": "stdout",
     "output_type": "stream",
     "text": [
      "1 2 4 6 8 10 "
     ]
    }
   ],
   "source": [
    "showlist(x)"
   ]
  },
  {
   "cell_type": "code",
   "execution_count": 26,
   "id": "48164ba0",
   "metadata": {},
   "outputs": [],
   "source": [
    "# insert a new element at the given index position.\n",
    "\n",
    "def insert_withindex(head,element,index):\n",
    "    \n",
    "    if index < 0: \n",
    "        print(\"Invalid Index\")\n",
    "        return None\n",
    "    \n",
    "    temp = x.head\n",
    "    while temp:\n",
    "        if temp.value == element:\n",
    "            print(\"This key is aleready exist can't be inserted.\")\n",
    "            return None\n",
    "        temp = temp.next\n",
    "        \n",
    "    temp = x.head\n",
    "    node = Node(element,None)\n",
    "    \n",
    "    if index == 0:\n",
    "        node.next = x.head\n",
    "        x.head = node\n",
    "    else:\n",
    "        i = 1\n",
    "        while i < index:\n",
    "            if temp.next:\n",
    "                temp = temp.next\n",
    "                i = i + 1\n",
    "            else:\n",
    "                print('Invalid Index')\n",
    "                return None\n",
    "            \n",
    "        y = temp.next\n",
    "        temp.next = node\n",
    "        node.next = y\n",
    "        \n",
    "        \n",
    "insert_withindex(x,5,3)        "
   ]
  },
  {
   "cell_type": "code",
   "execution_count": 36,
   "id": "32fd3cb0",
   "metadata": {},
   "outputs": [],
   "source": [
    "insert_withindex(x,2,3)"
   ]
  },
  {
   "cell_type": "code",
   "execution_count": 37,
   "id": "444d1d4d",
   "metadata": {},
   "outputs": [
    {
     "name": "stdout",
     "output_type": "stream",
     "text": [
      "1 4 8 2 5 6 10 "
     ]
    }
   ],
   "source": [
    "showlist(x)"
   ]
  },
  {
   "cell_type": "code",
   "execution_count": 38,
   "id": "5c64e22d",
   "metadata": {},
   "outputs": [],
   "source": [
    "def remove(head, key):\n",
    "    \n",
    "    if not x.head:\n",
    "        return None\n",
    "\n",
    "    if x.head.value == key:\n",
    "        x.head = x.head.next\n",
    "    \n",
    "    prev = x.head\n",
    "    current = x.head.next\n",
    "    \n",
    "    while current:\n",
    "        if current.value == key:\n",
    "            prev.next = current.next\n",
    "            return None\n",
    "        prev = current\n",
    "        current = current.next\n",
    "\n",
    "remove(x,2)"
   ]
  },
  {
   "cell_type": "code",
   "execution_count": 39,
   "id": "44fa557e",
   "metadata": {},
   "outputs": [
    {
     "name": "stdout",
     "output_type": "stream",
     "text": [
      "1 4 8 5 6 10 "
     ]
    }
   ],
   "source": [
    "showlist(x)"
   ]
  },
  {
   "cell_type": "code",
   "execution_count": 16,
   "id": "91dd4dc1",
   "metadata": {},
   "outputs": [
    {
     "name": "stdout",
     "output_type": "stream",
     "text": [
      "2 4 6 8 10 "
     ]
    }
   ],
   "source": [
    "# evenlist\n",
    "\n",
    "def evenlst(lst):\n",
    "    \n",
    "    temp = lst.head\n",
    "    \n",
    "    even_head = None\n",
    "    even_tail = None\n",
    "    \n",
    "    while temp:\n",
    "        \n",
    "        if temp.value % 2 == 0:\n",
    "            node = Node(temp.value,None)\n",
    "            if even_head == None:\n",
    "                even_head = node\n",
    "                even_tail = node\n",
    "            else:\n",
    "                even_tail.next = node\n",
    "                even_tail = node\n",
    "        temp = temp.next\n",
    "    temp = even_head\n",
    "    while temp:\n",
    "        print(temp.value,end = ' ')\n",
    "        temp = temp.next\n",
    "\n",
    "\n",
    "\n",
    "l = [2,3,4,5,6,7,8,9,10]\n",
    "lst = linked_list(l)\n",
    "evenlst(lst)"
   ]
  },
  {
   "cell_type": "code",
   "execution_count": 17,
   "id": "21a45778",
   "metadata": {},
   "outputs": [
    {
     "data": {
      "text/plain": [
       "True"
      ]
     },
     "execution_count": 17,
     "metadata": {},
     "output_type": "execute_result"
    }
   ],
   "source": [
    "# find whether a element is there or not\n",
    "\n",
    "def find(lst,element):\n",
    "    \n",
    "    temp = lst.head\n",
    "    \n",
    "    while temp:\n",
    "        if temp.value == element:\n",
    "            return True\n",
    "        temp = temp.next\n",
    "    return False\n",
    "\n",
    "find(lst,10)"
   ]
  },
  {
   "cell_type": "code",
   "execution_count": 18,
   "id": "1a581159",
   "metadata": {},
   "outputs": [
    {
     "data": {
      "text/plain": [
       "False"
      ]
     },
     "execution_count": 18,
     "metadata": {},
     "output_type": "execute_result"
    }
   ],
   "source": [
    "find(lst,12)"
   ]
  },
  {
   "cell_type": "code",
   "execution_count": 24,
   "id": "c0872978",
   "metadata": {},
   "outputs": [
    {
     "name": "stdout",
     "output_type": "stream",
     "text": [
      "2 3 4 5 6 7 8 9 10 "
     ]
    }
   ],
   "source": [
    "showlist(lst)"
   ]
  },
  {
   "cell_type": "code",
   "execution_count": 27,
   "id": "0fd8b06c",
   "metadata": {},
   "outputs": [],
   "source": [
    "# reverse the list\n",
    "\n",
    "def reverse(head):\n",
    "    \n",
    "    prev = None\n",
    "    current = head.head\n",
    "    \n",
    "    while current:\n",
    "        temp = current.next\n",
    "        current.next = prev\n",
    "        prev = current\n",
    "        current = temp\n",
    "    head.head = prev\n",
    "        \n",
    "lst1 = [1,2,3,4,5]\n",
    "l = linked_list(lst1)\n",
    "reverse(l)"
   ]
  },
  {
   "cell_type": "code",
   "execution_count": 28,
   "id": "b08a928f",
   "metadata": {},
   "outputs": [
    {
     "name": "stdout",
     "output_type": "stream",
     "text": [
      "5 4 3 2 1 "
     ]
    }
   ],
   "source": [
    "showlist(l)"
   ]
  },
  {
   "cell_type": "code",
   "execution_count": 32,
   "id": "d4c8cf22",
   "metadata": {},
   "outputs": [
    {
     "name": "stdout",
     "output_type": "stream",
     "text": [
      "1 2 3 4 5 "
     ]
    }
   ],
   "source": [
    "# sort the linked list (selection sort)\n",
    "\n",
    "def sort(head):\n",
    "    \n",
    "    if not head.head or not head.head.next:\n",
    "        return None\n",
    "    \n",
    "    temp = head.head\n",
    "    while temp:\n",
    "        minNode = temp\n",
    "        nextNode = temp.next\n",
    "        \n",
    "        while nextNode:       \n",
    "            if minNode.value > nextNode.value:\n",
    "                minNode = nextNode\n",
    "            nextNode = nextNode.next\n",
    "                \n",
    "        x = temp.value\n",
    "        temp.value = minNode.value\n",
    "        minNode.value = x\n",
    "           \n",
    "        temp = temp.next\n",
    "        \n",
    "    temp = head.head\n",
    "    while temp:\n",
    "        print(temp.value,end = ' ')\n",
    "        \n",
    "        temp = temp.next\n",
    "lst = [2,1,5,4,3] \n",
    "l = linked_list(lst)\n",
    "sort(l)"
   ]
  },
  {
   "cell_type": "code",
   "execution_count": 39,
   "id": "a4197c3b",
   "metadata": {},
   "outputs": [
    {
     "name": "stdout",
     "output_type": "stream",
     "text": [
      "Sum of the linked list :  112\n"
     ]
    }
   ],
   "source": [
    "# sum\n",
    "\n",
    "def su(head):\n",
    "    temp = head.head\n",
    "    s = 0\n",
    "    while temp:\n",
    "        s += temp.value\n",
    "        temp = temp.next\n",
    "    print('Sum of the linked list : ',s)\n",
    "    \n",
    "l = [20,6,78,8]\n",
    "lst = linked_list(l)\n",
    "su(lst)\n",
    "        "
   ]
  },
  {
   "cell_type": "code",
   "execution_count": null,
   "id": "4bac26b9",
   "metadata": {},
   "outputs": [],
   "source": [
    "# rotate the linked list"
   ]
  }
 ],
 "metadata": {
  "kernelspec": {
   "display_name": "Python 3 (ipykernel)",
   "language": "python",
   "name": "python3"
  },
  "language_info": {
   "codemirror_mode": {
    "name": "ipython",
    "version": 3
   },
   "file_extension": ".py",
   "mimetype": "text/x-python",
   "name": "python",
   "nbconvert_exporter": "python",
   "pygments_lexer": "ipython3",
   "version": "3.11.4"
  }
 },
 "nbformat": 4,
 "nbformat_minor": 5
}
