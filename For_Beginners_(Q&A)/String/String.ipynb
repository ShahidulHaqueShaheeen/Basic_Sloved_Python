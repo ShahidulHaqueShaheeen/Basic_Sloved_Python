{
 "cells": [
  {
   "cell_type": "code",
   "execution_count": 1,
   "id": "df0e0854",
   "metadata": {},
   "outputs": [
    {
     "name": "stdout",
     "output_type": "stream",
     "text": [
      "10 10000\n",
      "9 9090.90909090909\n",
      "8 8264.462809917353\n",
      "7 7513.148009015775\n",
      "6 6830.134553650703\n",
      "5 6209.213230591548\n",
      "4 5644.739300537771\n",
      "3 5131.5811823070635\n",
      "2 4665.07380209733\n",
      "1 4240.976183724845\n"
     ]
    }
   ],
   "source": [
    "# Program - The current population of a town is 10000. The population of the town is increasing at the rate of 10% per year.\n",
    "# You have to write a program to find out the population at the end of each of the last 10 years.\n",
    "\n",
    "current = 10000\n",
    "\n",
    "for i in range(10,0,-1):\n",
    "    print(i,current)\n",
    "    current = current / 1.1"
   ]
  },
  {
   "cell_type": "code",
   "execution_count": 3,
   "id": "4a77b7a7",
   "metadata": {},
   "outputs": [
    {
     "name": "stdout",
     "output_type": "stream",
     "text": [
      "enter n1\n",
      "1.0\n"
     ]
    }
   ],
   "source": [
    "# Sequence sum\n",
    "# 1/1! + 2/2! + 3/3! + ...\n",
    "n = int(input('enter n'))\n",
    "\n",
    "sum = 0\n",
    "fact = 1\n",
    "\n",
    "for i in range(1,n+1):\n",
    "    fact *= i\n",
    "    sum += i / fact\n",
    "    \n",
    "print(sum)"
   ]
  },
  {
   "cell_type": "code",
   "execution_count": 18,
   "id": "e5e20fd5",
   "metadata": {},
   "outputs": [
    {
     "name": "stdout",
     "output_type": "stream",
     "text": [
      "Enter the value of n: 5\n",
      "Enter the value of x: 2\n",
      "16.066666666666666\n"
     ]
    }
   ],
   "source": [
    "'''\n",
    "Write a Python Program to Find the Sum of the Series till the nth term:\n",
    "1 + x^2/2 + x^3/3 + … x^n/n\n",
    "n will be provided by the user\n",
    "'''\n",
    "\n",
    "n = int(input(\"Enter the value of n: \"))\n",
    "x = float(input(\"Enter the value of x: \"))\n",
    "\n",
    "sum = 1\n",
    "\n",
    "for i in range(2,n+1):\n",
    "    \n",
    "    temp = (x ** i) / i\n",
    "    sum += temp\n",
    "\n",
    "print(sum)"
   ]
  },
  {
   "cell_type": "code",
   "execution_count": 21,
   "id": "4029bb55",
   "metadata": {},
   "outputs": [
    {
     "name": "stdout",
     "output_type": "stream",
     "text": [
      "Enter the number here : 5\n",
      "24690\n"
     ]
    }
   ],
   "source": [
    "'''\n",
    "Find the sum of the series upto n terms.\n",
    "Write a program to calculate the sum of series up to n term. For example, \n",
    "if n =5 the series will become 2 + 22 + 222 + 2222 + 22222 = 24690. Take the user input and then calculate.\n",
    "And the output style should match which is given in the example.\n",
    "'''\n",
    "\n",
    "n = int(input('Enter the number here : '))\n",
    "sum = 0\n",
    "for i in range(1,n+1):\n",
    "    \n",
    "    temp = '2'*i\n",
    "    temp = int(temp)\n",
    "    sum += temp\n",
    "print(sum)"
   ]
  },
  {
   "cell_type": "code",
   "execution_count": null,
   "id": "18b9d82f",
   "metadata": {},
   "outputs": [],
   "source": []
  },
  {
   "cell_type": "code",
   "execution_count": 4,
   "id": "863be67d",
   "metadata": {},
   "outputs": [
    {
     "name": "stdout",
     "output_type": "stream",
     "text": [
      "1 1\n",
      "1 2\n",
      "1 3\n",
      "1 4\n",
      "1 5\n",
      "2 1\n",
      "2 2\n",
      "2 3\n",
      "2 4\n",
      "2 5\n",
      "3 1\n",
      "3 2\n",
      "3 3\n",
      "3 4\n",
      "3 5\n",
      "4 1\n",
      "4 2\n",
      "4 3\n",
      "4 4\n",
      "4 5\n",
      "5 1\n",
      "5 2\n",
      "5 3\n",
      "5 4\n",
      "5 5\n"
     ]
    }
   ],
   "source": [
    "# print unique pair\n",
    "\n",
    "for  i in range(1,6):\n",
    "    for j in range(1,6):\n",
    "        print(i,j)"
   ]
  },
  {
   "cell_type": "code",
   "execution_count": 11,
   "id": "938cf8d7",
   "metadata": {},
   "outputs": [
    {
     "name": "stdout",
     "output_type": "stream",
     "text": [
      "Enter the numbers of row here : 5\n",
      "*\n",
      "**\n",
      "***\n",
      "****\n",
      "*****\n"
     ]
    }
   ],
   "source": [
    "'''\n",
    "Pattern 1\n",
    "*\n",
    "**\n",
    "***\n",
    "'''\n",
    "n = int(input('Enter the numbers of row here : '))\n",
    "for i in range(1,n+1):\n",
    "    for j in range(i):\n",
    "        print('*', end = '')\n",
    "    print()"
   ]
  },
  {
   "cell_type": "code",
   "execution_count": 13,
   "id": "66c1550f",
   "metadata": {},
   "outputs": [
    {
     "name": "stdout",
     "output_type": "stream",
     "text": [
      "Enter the number of row here : 5\n",
      "1\n",
      "121\n",
      "12321\n",
      "1234321\n",
      "123454321\n"
     ]
    }
   ],
   "source": [
    "'''\n",
    "Pattern 2\n",
    "1\n",
    "121\n",
    "12321\n",
    "1234321\n",
    "'''\n",
    "row = int(input('Enter the number of row here : '))\n",
    "\n",
    "for i in range(1,row+1):\n",
    "    for j in range(1,i+1):\n",
    "        print(j,end = '')\n",
    "    for k in range(i-1,0,-1):\n",
    "        print(k,end = '')\n",
    "        \n",
    "    print()"
   ]
  },
  {
   "cell_type": "code",
   "execution_count": 5,
   "id": "dc19d278",
   "metadata": {},
   "outputs": [
    {
     "name": "stdout",
     "output_type": "stream",
     "text": [
      "Enter the number of row : 5\n",
      "5 4 3 2 1 \n",
      "4 3 2 1 \n",
      "3 2 1 \n",
      "2 1 \n",
      "1 \n"
     ]
    }
   ],
   "source": [
    "'''\n",
    "5 4 3 2 1 \n",
    "4 3 2 1 \n",
    "3 2 1 \n",
    "2 1 \n",
    "1\n",
    "'''\n",
    "row = int(input('Enter the number of row : '))\n",
    "\n",
    "for i in range(1,row+1):\n",
    "    for j in range(1+row-i,0,-1):\n",
    "        print(j, end = ' ')\n",
    "    print()"
   ]
  },
  {
   "cell_type": "code",
   "execution_count": 10,
   "id": "3f3515a0",
   "metadata": {},
   "outputs": [
    {
     "name": "stdout",
     "output_type": "stream",
     "text": [
      "Enter the number of row : 5\n",
      "* \n",
      "* * \n",
      "* * * \n",
      "* * * * \n",
      "* * * * * \n",
      "* * * * \n",
      "* * * \n",
      "* * \n",
      "* \n"
     ]
    }
   ],
   "source": [
    "'''\n",
    "* \n",
    "* * \n",
    "* * * \n",
    "* * * * \n",
    "* * * * * \n",
    "* * * * \n",
    "* * * \n",
    "* * \n",
    "*\n",
    "'''\n",
    "row = int(input('Enter the number of row : '))\n",
    "for i in range(1,row+1):   \n",
    "    for j in range(1,i+1):\n",
    "        print('*',end = ' ')\n",
    "    print()\n",
    "for k in range(row-1,0,-1):    \n",
    "    for x in range(1,k+1):\n",
    "        print('*',end = ' ')\n",
    "    print()"
   ]
  },
  {
   "cell_type": "code",
   "execution_count": 14,
   "id": "0a5b187d",
   "metadata": {},
   "outputs": [
    {
     "name": "stdout",
     "output_type": "stream",
     "text": [
      "Enter the number of row : 5\n",
      "        * \n",
      "      * * * \n",
      "    * * * * * \n",
      "  * * * * * * * \n",
      "* * * * * * * * * \n"
     ]
    }
   ],
   "source": [
    "'''\n",
    "    *\n",
    "  * * *\n",
    "* * * * *\n",
    "'''\n",
    "row = int(input('Enter the number of row : '))\n",
    "for i in range(1,row+1):\n",
    "    for j in range(1,row+1-i):\n",
    "        print(' ', end = ' ')\n",
    "    for k in range(1,i+1):\n",
    "        print('*',end = ' ')\n",
    "    for l in range(i-1,0,-1):\n",
    "        print('*',end = ' ')\n",
    "    print()\n",
    "    "
   ]
  },
  {
   "cell_type": "code",
   "execution_count": 16,
   "id": "e452d443",
   "metadata": {},
   "outputs": [
    {
     "name": "stdout",
     "output_type": "stream",
     "text": [
      "Enter the number of row : 5\n",
      "        * \n",
      "      * * * \n",
      "    * * * * * \n",
      "  * * * * * * * \n",
      "* * * * * * * * * \n",
      "  * * * * * * * \n",
      "    * * * * * \n",
      "      * * * \n",
      "        * \n"
     ]
    }
   ],
   "source": [
    "row = int(input('Enter the number of row : '))\n",
    "for i in range(1,row+1):\n",
    "    for j in range(1,row+1-i):\n",
    "        print(' ', end = ' ')\n",
    "    for k in range(1,i+1):\n",
    "        print('*',end = ' ')\n",
    "    for l in range(i-1,0,-1):\n",
    "        print('*',end = ' ')\n",
    "    print()\n",
    "for i in range(row-1,0,-1):\n",
    "    for j in range(1,row+1-i):\n",
    "        print(' ', end = ' ')\n",
    "    for k in range(1,i+1):\n",
    "        print('*',end = ' ')\n",
    "    for l in range(i-1,0,-1):\n",
    "        print('*',end = ' ')\n",
    "    print()"
   ]
  },
  {
   "cell_type": "code",
   "execution_count": 8,
   "id": "424c62fc",
   "metadata": {},
   "outputs": [
    {
     "name": "stdout",
     "output_type": "stream",
     "text": [
      "Enter row here : 5\n",
      "    *\n",
      "   ***\n",
      "  *****\n",
      " *******\n",
      "*********\n",
      " *******\n",
      "  *****\n",
      "   ***\n",
      "    *\n"
     ]
    }
   ],
   "source": [
    "# print xmas tree without nested loop\n",
    "row = int(input('Enter row here : '))\n",
    "\n",
    "for i in range(1,row+1):\n",
    "    space = (row - i)\n",
    "    star = (i *2 -1)\n",
    "    print((' ' * space)+('*' * star))\n",
    "    \n",
    "for i in range(row-1,0,-1):\n",
    "    space = (row - i)\n",
    "    star = (i *2 -1)\n",
    "    print((' ' * space)+('*' * star))\n"
   ]
  },
  {
   "cell_type": "code",
   "execution_count": 17,
   "id": "8867d04d",
   "metadata": {},
   "outputs": [
    {
     "name": "stdout",
     "output_type": "stream",
     "text": [
      "Enter the number of row here : 5\n",
      "1 \n",
      "2 1 \n",
      "3 2 1 \n",
      "4 3 2 1 \n",
      "5 4 3 2 1 \n"
     ]
    }
   ],
   "source": [
    "'''\n",
    "1\n",
    "\n",
    "2 1\n",
    "\n",
    "3 2 1\n",
    "\n",
    "4 3 2 1\n",
    "\n",
    "5 4 3 2 1\n",
    "'''\n",
    "\n",
    "row = int(input('Enter the number of row here : '))\n",
    "\n",
    "for i in range(1,row+1):\n",
    "    for j in range(i,0,-1):\n",
    "        print(j,end = ' ')\n",
    "    print()\n",
    "        "
   ]
  },
  {
   "cell_type": "code",
   "execution_count": 14,
   "id": "e75d8e4e",
   "metadata": {},
   "outputs": [
    {
     "name": "stdout",
     "output_type": "stream",
     "text": [
      "10\n",
      "100\n",
      "11\n",
      "13\n",
      "17\n",
      "19\n",
      "23\n",
      "29\n",
      "31\n",
      "37\n",
      "41\n",
      "43\n",
      "47\n",
      "53\n",
      "59\n",
      "61\n",
      "67\n",
      "71\n",
      "73\n",
      "79\n",
      "83\n",
      "89\n",
      "97\n"
     ]
    }
   ],
   "source": [
    "'''\n",
    "Loop Control Statements:\n",
    "\n",
    "Break\n",
    "Continue\n",
    "Pass\n",
    "'''\n",
    "# find prime number between given range\n",
    "\n",
    "lower = int(input())\n",
    "upper = int(input())\n",
    "\n",
    "for i in range(lower,upper+1):\n",
    "    for j in range(2,i):\n",
    "        if i % j == 0:\n",
    "            break\n",
    "    else:\n",
    "        print(i)"
   ]
  },
  {
   "cell_type": "code",
   "execution_count": 15,
   "id": "a6896376",
   "metadata": {},
   "outputs": [
    {
     "data": {
      "text/plain": [
       "'\\nStrings are sequence of Characters\\n\\nIn Python specifically, strings are a sequence of Unicode Characters\\n\\nCreating Strings\\nAccessing Strings\\nAdding Chars to Strings\\nEditing Strings\\nDeleting Strings\\nOperations on Strings\\nString Functions\\n'"
      ]
     },
     "execution_count": 15,
     "metadata": {},
     "output_type": "execute_result"
    }
   ],
   "source": [
    "'''\n",
    "Strings are sequence of Characters\n",
    "\n",
    "In Python specifically, strings are a sequence of Unicode Characters\n",
    "\n",
    "Creating Strings\n",
    "Accessing Strings\n",
    "Adding Chars to Strings\n",
    "Editing Strings\n",
    "Deleting Strings\n",
    "Operations on Strings\n",
    "String Functions\n",
    "'''"
   ]
  },
  {
   "cell_type": "code",
   "execution_count": 17,
   "id": "7f135ddf",
   "metadata": {},
   "outputs": [
    {
     "name": "stdout",
     "output_type": "stream",
     "text": [
      "hello\n"
     ]
    }
   ],
   "source": [
    "# Creating Stings\n",
    "\n",
    "s = 'hello'\n",
    "s = \"hello\"\n",
    "# multiline\n",
    "s = ''' hello'''\n",
    "s = str('hello')\n",
    "\n",
    "print(s)"
   ]
  },
  {
   "cell_type": "code",
   "execution_count": 18,
   "id": "cb9e9206",
   "metadata": {},
   "outputs": [
    {
     "data": {
      "text/plain": [
       "\"it's raining outside\""
      ]
     },
     "execution_count": 18,
     "metadata": {},
     "output_type": "execute_result"
    }
   ],
   "source": [
    "\"it's raining outside\""
   ]
  },
  {
   "cell_type": "code",
   "execution_count": 19,
   "id": "64ab2021",
   "metadata": {},
   "outputs": [
    {
     "name": "stdout",
     "output_type": "stream",
     "text": [
      "e\n"
     ]
    }
   ],
   "source": [
    "# Positive indexing\n",
    "\n",
    "s = 'hello world'\n",
    "print(s[1])"
   ]
  },
  {
   "cell_type": "code",
   "execution_count": 21,
   "id": "8d5e18b9",
   "metadata": {},
   "outputs": [
    {
     "name": "stdout",
     "output_type": "stream",
     "text": [
      "n\n"
     ]
    }
   ],
   "source": [
    "# Negative indexing\n",
    "\n",
    "s = ' hi shaheen'\n",
    "print(s[-1])\n",
    "\n",
    "# Advantage of negative indexing is we can get the last character of any string without knowing the len of that string"
   ]
  },
  {
   "cell_type": "code",
   "execution_count": 26,
   "id": "db89ffb7",
   "metadata": {},
   "outputs": [
    {
     "name": "stdout",
     "output_type": "stream",
     "text": [
      "wol\n"
     ]
    }
   ],
   "source": [
    "# Slicing\n",
    "s = 'hello world'\n",
    "print(s[6:0:-2])"
   ]
  },
  {
   "cell_type": "code",
   "execution_count": 27,
   "id": "655cd8c4",
   "metadata": {},
   "outputs": [
    {
     "name": "stdout",
     "output_type": "stream",
     "text": [
      "dlrow olleh\n"
     ]
    }
   ],
   "source": [
    "print(s[::-1])"
   ]
  },
  {
   "cell_type": "code",
   "execution_count": 30,
   "id": "82335f31",
   "metadata": {},
   "outputs": [
    {
     "name": "stdout",
     "output_type": "stream",
     "text": [
      "dlrow\n"
     ]
    }
   ],
   "source": [
    "s = 'hello world'\n",
    "print(s[-1:-6:-1])"
   ]
  },
  {
   "cell_type": "code",
   "execution_count": 31,
   "id": "8c7151ae",
   "metadata": {},
   "outputs": [
    {
     "ename": "TypeError",
     "evalue": "'str' object does not support item assignment",
     "output_type": "error",
     "traceback": [
      "\u001b[1;31m---------------------------------------------------------------------------\u001b[0m",
      "\u001b[1;31mTypeError\u001b[0m                                 Traceback (most recent call last)",
      "Cell \u001b[1;32mIn[31], line 2\u001b[0m\n\u001b[0;32m      1\u001b[0m s \u001b[38;5;241m=\u001b[39m \u001b[38;5;124m'\u001b[39m\u001b[38;5;124mhello world\u001b[39m\u001b[38;5;124m'\u001b[39m\n\u001b[1;32m----> 2\u001b[0m s[\u001b[38;5;241m0\u001b[39m] \u001b[38;5;241m=\u001b[39m \u001b[38;5;124m'\u001b[39m\u001b[38;5;124mH\u001b[39m\u001b[38;5;124m'\u001b[39m\n",
      "\u001b[1;31mTypeError\u001b[0m: 'str' object does not support item assignment"
     ]
    }
   ],
   "source": [
    "s = 'hello world'\n",
    "s[0] = 'H'\n",
    "\n",
    "# Python strings are immutable"
   ]
  },
  {
   "cell_type": "code",
   "execution_count": 32,
   "id": "10f80ab0",
   "metadata": {},
   "outputs": [
    {
     "name": "stdout",
     "output_type": "stream",
     "text": [
      "\n"
     ]
    }
   ],
   "source": [
    "print(s[-1:-5:2])"
   ]
  },
  {
   "cell_type": "code",
   "execution_count": 33,
   "id": "969aa999",
   "metadata": {},
   "outputs": [
    {
     "ename": "NameError",
     "evalue": "name 's' is not defined",
     "output_type": "error",
     "traceback": [
      "\u001b[1;31m---------------------------------------------------------------------------\u001b[0m",
      "\u001b[1;31mNameError\u001b[0m                                 Traceback (most recent call last)",
      "Cell \u001b[1;32mIn[33], line 3\u001b[0m\n\u001b[0;32m      1\u001b[0m s \u001b[38;5;241m=\u001b[39m \u001b[38;5;124m'\u001b[39m\u001b[38;5;124mhello world\u001b[39m\u001b[38;5;124m'\u001b[39m\n\u001b[0;32m      2\u001b[0m \u001b[38;5;28;01mdel\u001b[39;00m s\n\u001b[1;32m----> 3\u001b[0m \u001b[38;5;28mprint\u001b[39m(s)\n",
      "\u001b[1;31mNameError\u001b[0m: name 's' is not defined"
     ]
    }
   ],
   "source": [
    "s = 'hello world'\n",
    "del s\n",
    "print(s)"
   ]
  },
  {
   "cell_type": "code",
   "execution_count": 34,
   "id": "44b20f64",
   "metadata": {},
   "outputs": [
    {
     "ename": "TypeError",
     "evalue": "'str' object does not support item deletion",
     "output_type": "error",
     "traceback": [
      "\u001b[1;31m---------------------------------------------------------------------------\u001b[0m",
      "\u001b[1;31mTypeError\u001b[0m                                 Traceback (most recent call last)",
      "Cell \u001b[1;32mIn[34], line 2\u001b[0m\n\u001b[0;32m      1\u001b[0m s \u001b[38;5;241m=\u001b[39m \u001b[38;5;124m'\u001b[39m\u001b[38;5;124mhello world\u001b[39m\u001b[38;5;124m'\u001b[39m\n\u001b[1;32m----> 2\u001b[0m \u001b[38;5;28;01mdel\u001b[39;00m s[\u001b[38;5;241m-\u001b[39m\u001b[38;5;241m1\u001b[39m:\u001b[38;5;241m-\u001b[39m\u001b[38;5;241m5\u001b[39m:\u001b[38;5;241m2\u001b[39m]\n\u001b[0;32m      3\u001b[0m \u001b[38;5;28mprint\u001b[39m(s)\n",
      "\u001b[1;31mTypeError\u001b[0m: 'str' object does not support item deletion"
     ]
    }
   ],
   "source": [
    "s = 'hello world'\n",
    "del s[-1:-5:2]\n",
    "print(s)\n",
    "\n",
    "# we can't delete any part of string as it is immutable"
   ]
  },
  {
   "cell_type": "code",
   "execution_count": 28,
   "id": "c83284e1",
   "metadata": {},
   "outputs": [
    {
     "data": {
      "text/plain": [
       "'\\nOperations on Strings\\nArithmetic Operations(*,+)\\nRelational Operations (==,>,<,!)\\nLogical Operations(and,or,not)\\nLoops on Strings(for)\\nMembership Operations(in, not in)\\n'"
      ]
     },
     "execution_count": 28,
     "metadata": {},
     "output_type": "execute_result"
    }
   ],
   "source": [
    "'''\n",
    "Operations on Strings\n",
    "Arithmetic Operations(*,+)\n",
    "Relational Operations (==,>,<,!)\n",
    "Logical Operations(and,or,not)\n",
    "Loops on Strings(for)\n",
    "Membership Operations(in, not in)\n",
    "'''"
   ]
  },
  {
   "cell_type": "code",
   "execution_count": 4,
   "id": "3ef34bf6",
   "metadata": {},
   "outputs": [
    {
     "name": "stdout",
     "output_type": "stream",
     "text": [
      "Hi shaheen\n"
     ]
    }
   ],
   "source": [
    "# +, *\n",
    "print('Hi'+' '+'shaheen')"
   ]
  },
  {
   "cell_type": "code",
   "execution_count": 6,
   "id": "d91cec4e",
   "metadata": {},
   "outputs": [
    {
     "name": "stdout",
     "output_type": "stream",
     "text": [
      "**************************************************\n"
     ]
    }
   ],
   "source": [
    "print('*'*50)"
   ]
  },
  {
   "cell_type": "code",
   "execution_count": 7,
   "id": "511790f9",
   "metadata": {},
   "outputs": [
    {
     "data": {
      "text/plain": [
       "False"
      ]
     },
     "execution_count": 7,
     "metadata": {},
     "output_type": "execute_result"
    }
   ],
   "source": [
    "'Shaheen' > 'shaheen'"
   ]
  },
  {
   "cell_type": "code",
   "execution_count": 13,
   "id": "8f2b2773",
   "metadata": {},
   "outputs": [
    {
     "data": {
      "text/plain": [
       "True"
      ]
     },
     "execution_count": 13,
     "metadata": {},
     "output_type": "execute_result"
    }
   ],
   "source": [
    "'shaheen'  == 'shaheen'"
   ]
  },
  {
   "cell_type": "code",
   "execution_count": 14,
   "id": "730448f8",
   "metadata": {},
   "outputs": [
    {
     "data": {
      "text/plain": [
       "'you'"
      ]
     },
     "execution_count": 14,
     "metadata": {},
     "output_type": "execute_result"
    }
   ],
   "source": [
    "'shaheen' and 'you'"
   ]
  },
  {
   "cell_type": "code",
   "execution_count": 15,
   "id": "a3348b9f",
   "metadata": {},
   "outputs": [
    {
     "data": {
      "text/plain": [
       "'shaheen'"
      ]
     },
     "execution_count": 15,
     "metadata": {},
     "output_type": "execute_result"
    }
   ],
   "source": [
    "'shaheen' or 'you'"
   ]
  },
  {
   "cell_type": "code",
   "execution_count": 16,
   "id": "0fc207fe",
   "metadata": {},
   "outputs": [
    {
     "data": {
      "text/plain": [
       "''"
      ]
     },
     "execution_count": 16,
     "metadata": {},
     "output_type": "execute_result"
    }
   ],
   "source": [
    "'' and ''"
   ]
  },
  {
   "cell_type": "code",
   "execution_count": 17,
   "id": "1ed4c620",
   "metadata": {},
   "outputs": [
    {
     "data": {
      "text/plain": [
       "False"
      ]
     },
     "execution_count": 17,
     "metadata": {},
     "output_type": "execute_result"
    }
   ],
   "source": [
    "False and False"
   ]
  },
  {
   "cell_type": "code",
   "execution_count": 18,
   "id": "2b6d3843",
   "metadata": {},
   "outputs": [
    {
     "data": {
      "text/plain": [
       "True"
      ]
     },
     "execution_count": 18,
     "metadata": {},
     "output_type": "execute_result"
    }
   ],
   "source": [
    "not ''"
   ]
  },
  {
   "cell_type": "code",
   "execution_count": 19,
   "id": "2fa86ab5",
   "metadata": {},
   "outputs": [
    {
     "data": {
      "text/plain": [
       "False"
      ]
     },
     "execution_count": 19,
     "metadata": {},
     "output_type": "execute_result"
    }
   ],
   "source": [
    "not 'shaheen'"
   ]
  },
  {
   "cell_type": "code",
   "execution_count": 22,
   "id": "1901fdb5",
   "metadata": {},
   "outputs": [
    {
     "name": "stdout",
     "output_type": "stream",
     "text": [
      "s\n",
      "h\n",
      "e\n",
      "h\n",
      "e\n",
      "e\n",
      "n\n"
     ]
    }
   ],
   "source": [
    "for i in 'sheheen':\n",
    "    print(i)"
   ]
  },
  {
   "cell_type": "code",
   "execution_count": 24,
   "id": "010a2e4f",
   "metadata": {},
   "outputs": [
    {
     "name": "stdout",
     "output_type": "stream",
     "text": [
      "hi\n",
      "hi\n",
      "hi\n",
      "hi\n",
      "hi\n",
      "hi\n",
      "hi\n"
     ]
    }
   ],
   "source": [
    "for i in 'shaheen':\n",
    "    print('hi')"
   ]
  },
  {
   "cell_type": "code",
   "execution_count": 25,
   "id": "a5a31550",
   "metadata": {},
   "outputs": [
    {
     "data": {
      "text/plain": [
       "True"
      ]
     },
     "execution_count": 25,
     "metadata": {},
     "output_type": "execute_result"
    }
   ],
   "source": [
    "'s' in 'shaheen'"
   ]
  },
  {
   "cell_type": "code",
   "execution_count": 26,
   "id": "c16ae64c",
   "metadata": {},
   "outputs": [
    {
     "data": {
      "text/plain": [
       "True"
      ]
     },
     "execution_count": 26,
     "metadata": {},
     "output_type": "execute_result"
    }
   ],
   "source": [
    "'S'  not in 'shaheen'"
   ]
  },
  {
   "cell_type": "code",
   "execution_count": 27,
   "id": "d434dac4",
   "metadata": {},
   "outputs": [
    {
     "data": {
      "text/plain": [
       "False"
      ]
     },
     "execution_count": 27,
     "metadata": {},
     "output_type": "execute_result"
    }
   ],
   "source": [
    "'S'in 'shaheen'"
   ]
  },
  {
   "cell_type": "code",
   "execution_count": 29,
   "id": "02c6fb3f",
   "metadata": {},
   "outputs": [
    {
     "data": {
      "text/plain": [
       "'\\nCommon Functions\\nlen\\nmax\\nmin\\nsorted\\n'"
      ]
     },
     "execution_count": 29,
     "metadata": {},
     "output_type": "execute_result"
    }
   ],
   "source": [
    "'''\n",
    "Common Functions\n",
    "len\n",
    "max\n",
    "min\n",
    "sorted\n",
    "'''"
   ]
  },
  {
   "cell_type": "code",
   "execution_count": 30,
   "id": "985f8519",
   "metadata": {},
   "outputs": [
    {
     "data": {
      "text/plain": [
       "11"
      ]
     },
     "execution_count": 30,
     "metadata": {},
     "output_type": "execute_result"
    }
   ],
   "source": [
    "len('hello world')"
   ]
  },
  {
   "cell_type": "code",
   "execution_count": 31,
   "id": "ffb007d8",
   "metadata": {},
   "outputs": [
    {
     "data": {
      "text/plain": [
       "'w'"
      ]
     },
     "execution_count": 31,
     "metadata": {},
     "output_type": "execute_result"
    }
   ],
   "source": [
    "max('hello world')"
   ]
  },
  {
   "cell_type": "code",
   "execution_count": 32,
   "id": "8684c6b4",
   "metadata": {},
   "outputs": [
    {
     "data": {
      "text/plain": [
       "' '"
      ]
     },
     "execution_count": 32,
     "metadata": {},
     "output_type": "execute_result"
    }
   ],
   "source": [
    "min('hello world')"
   ]
  },
  {
   "cell_type": "code",
   "execution_count": 33,
   "id": "5d6e8f6b",
   "metadata": {},
   "outputs": [
    {
     "data": {
      "text/plain": [
       "[' ', 'd', 'e', 'h', 'l', 'l', 'l', 'o', 'o', 'r', 'w']"
      ]
     },
     "execution_count": 33,
     "metadata": {},
     "output_type": "execute_result"
    }
   ],
   "source": [
    "sorted('hello world')"
   ]
  },
  {
   "cell_type": "code",
   "execution_count": 34,
   "id": "ca1b90ae",
   "metadata": {},
   "outputs": [
    {
     "data": {
      "text/plain": [
       "['w', 'r', 'o', 'o', 'l', 'l', 'l', 'h', 'e', 'd', ' ']"
      ]
     },
     "execution_count": 34,
     "metadata": {},
     "output_type": "execute_result"
    }
   ],
   "source": [
    "sorted('hello world', reverse = True)"
   ]
  },
  {
   "cell_type": "code",
   "execution_count": null,
   "id": "4071e5c4",
   "metadata": {},
   "outputs": [],
   "source": [
    "# Capitalize/Title/Upper/Lower/Swapcase"
   ]
  },
  {
   "cell_type": "code",
   "execution_count": 35,
   "id": "ef27384d",
   "metadata": {},
   "outputs": [],
   "source": [
    "s = 'hello world'"
   ]
  },
  {
   "cell_type": "code",
   "execution_count": 36,
   "id": "99938da5",
   "metadata": {},
   "outputs": [
    {
     "data": {
      "text/plain": [
       "'Hello world'"
      ]
     },
     "execution_count": 36,
     "metadata": {},
     "output_type": "execute_result"
    }
   ],
   "source": [
    "s.capitalize()"
   ]
  },
  {
   "cell_type": "code",
   "execution_count": 37,
   "id": "2fd0b639",
   "metadata": {},
   "outputs": [
    {
     "data": {
      "text/plain": [
       "'Hello World'"
      ]
     },
     "execution_count": 37,
     "metadata": {},
     "output_type": "execute_result"
    }
   ],
   "source": [
    "s.title()"
   ]
  },
  {
   "cell_type": "code",
   "execution_count": 38,
   "id": "13278856",
   "metadata": {},
   "outputs": [
    {
     "data": {
      "text/plain": [
       "'hello world'"
      ]
     },
     "execution_count": 38,
     "metadata": {},
     "output_type": "execute_result"
    }
   ],
   "source": [
    "s.lower()"
   ]
  },
  {
   "cell_type": "code",
   "execution_count": 39,
   "id": "cebf57ca",
   "metadata": {},
   "outputs": [
    {
     "data": {
      "text/plain": [
       "'SHAHEEN HAQUE MMMM'"
      ]
     },
     "execution_count": 39,
     "metadata": {},
     "output_type": "execute_result"
    }
   ],
   "source": [
    "'Shaheen Haque MMMM'.upper()"
   ]
  },
  {
   "cell_type": "code",
   "execution_count": 40,
   "id": "b256ce62",
   "metadata": {},
   "outputs": [
    {
     "data": {
      "text/plain": [
       "'SHahEEN'"
      ]
     },
     "execution_count": 40,
     "metadata": {},
     "output_type": "execute_result"
    }
   ],
   "source": [
    "'shAHeen'.swapcase()"
   ]
  },
  {
   "cell_type": "code",
   "execution_count": 41,
   "id": "368cfcfc",
   "metadata": {},
   "outputs": [],
   "source": [
    "# Count/Find/Index"
   ]
  },
  {
   "cell_type": "code",
   "execution_count": 43,
   "id": "b7b52de9",
   "metadata": {},
   "outputs": [
    {
     "data": {
      "text/plain": [
       "2"
      ]
     },
     "execution_count": 43,
     "metadata": {},
     "output_type": "execute_result"
    }
   ],
   "source": [
    "'shaheen'.count('e')"
   ]
  },
  {
   "cell_type": "code",
   "execution_count": 44,
   "id": "6c4637d4",
   "metadata": {},
   "outputs": [
    {
     "data": {
      "text/plain": [
       "4"
      ]
     },
     "execution_count": 44,
     "metadata": {},
     "output_type": "execute_result"
    }
   ],
   "source": [
    "'shahidul'.find('i')"
   ]
  },
  {
   "cell_type": "code",
   "execution_count": 45,
   "id": "c4098eea",
   "metadata": {},
   "outputs": [
    {
     "data": {
      "text/plain": [
       "True"
      ]
     },
     "execution_count": 45,
     "metadata": {},
     "output_type": "execute_result"
    }
   ],
   "source": [
    "# endswith/startswith\n",
    "'i am shaheen'.startswith('i')"
   ]
  },
  {
   "cell_type": "code",
   "execution_count": 47,
   "id": "844a9198",
   "metadata": {},
   "outputs": [
    {
     "data": {
      "text/plain": [
       "False"
      ]
     },
     "execution_count": 47,
     "metadata": {},
     "output_type": "execute_result"
    }
   ],
   "source": [
    "'i am shaheen'.endswith('i')"
   ]
  },
  {
   "cell_type": "code",
   "execution_count": 48,
   "id": "cffb9477",
   "metadata": {},
   "outputs": [
    {
     "data": {
      "text/plain": [
       "True"
      ]
     },
     "execution_count": 48,
     "metadata": {},
     "output_type": "execute_result"
    }
   ],
   "source": [
    "'i am shaheen'.endswith('en')"
   ]
  },
  {
   "cell_type": "code",
   "execution_count": 49,
   "id": "aab3ea42",
   "metadata": {},
   "outputs": [
    {
     "data": {
      "text/plain": [
       "'Hi, my name is shaheen and my gender is male'"
      ]
     },
     "execution_count": 49,
     "metadata": {},
     "output_type": "execute_result"
    }
   ],
   "source": [
    "# format\n",
    "g = 'male'\n",
    "n = 'shaheen'\n",
    "\n",
    "'Hi, my name is {} and my gender is {}'.format(n,g)"
   ]
  },
  {
   "cell_type": "code",
   "execution_count": 50,
   "id": "3b3a78f2",
   "metadata": {},
   "outputs": [],
   "source": [
    "# isalnum/ isalpha/ isdigit/ isidentifier"
   ]
  },
  {
   "cell_type": "code",
   "execution_count": 52,
   "id": "20ac917a",
   "metadata": {},
   "outputs": [
    {
     "data": {
      "text/plain": [
       "True"
      ]
     },
     "execution_count": 52,
     "metadata": {},
     "output_type": "execute_result"
    }
   ],
   "source": [
    "'shaheen123'.isalnum()"
   ]
  },
  {
   "cell_type": "code",
   "execution_count": 54,
   "id": "9733c5e0",
   "metadata": {},
   "outputs": [
    {
     "data": {
      "text/plain": [
       "False"
      ]
     },
     "execution_count": 54,
     "metadata": {},
     "output_type": "execute_result"
    }
   ],
   "source": [
    "'shaheen123@'.isalnum()"
   ]
  },
  {
   "cell_type": "code",
   "execution_count": 56,
   "id": "9c8c0021",
   "metadata": {},
   "outputs": [
    {
     "data": {
      "text/plain": [
       "True"
      ]
     },
     "execution_count": 56,
     "metadata": {},
     "output_type": "execute_result"
    }
   ],
   "source": [
    "'shaheen'.isalpha()"
   ]
  },
  {
   "cell_type": "code",
   "execution_count": 57,
   "id": "cea2d560",
   "metadata": {},
   "outputs": [
    {
     "data": {
      "text/plain": [
       "False"
      ]
     },
     "execution_count": 57,
     "metadata": {},
     "output_type": "execute_result"
    }
   ],
   "source": [
    "'shaheen2'.isalpha()"
   ]
  },
  {
   "cell_type": "code",
   "execution_count": 58,
   "id": "c11259af",
   "metadata": {},
   "outputs": [
    {
     "data": {
      "text/plain": [
       "True"
      ]
     },
     "execution_count": 58,
     "metadata": {},
     "output_type": "execute_result"
    }
   ],
   "source": [
    "'12455'.isdigit()"
   ]
  },
  {
   "cell_type": "code",
   "execution_count": 64,
   "id": "35c7d9c5",
   "metadata": {},
   "outputs": [
    {
     "data": {
      "text/plain": [
       "True"
      ]
     },
     "execution_count": 64,
     "metadata": {},
     "output_type": "execute_result"
    }
   ],
   "source": [
    "'shaheen'.isidentifier() "
   ]
  },
  {
   "cell_type": "code",
   "execution_count": 65,
   "id": "04be18d0",
   "metadata": {},
   "outputs": [
    {
     "data": {
      "text/plain": [
       "False"
      ]
     },
     "execution_count": 65,
     "metadata": {},
     "output_type": "execute_result"
    }
   ],
   "source": [
    "'-shaheen'.isidentifier()"
   ]
  },
  {
   "cell_type": "code",
   "execution_count": 66,
   "id": "1b3a1ab8",
   "metadata": {},
   "outputs": [
    {
     "data": {
      "text/plain": [
       "True"
      ]
     },
     "execution_count": 66,
     "metadata": {},
     "output_type": "execute_result"
    }
   ],
   "source": [
    "'_shaheen'.isidentifier()"
   ]
  },
  {
   "cell_type": "code",
   "execution_count": null,
   "id": "abd110e3",
   "metadata": {},
   "outputs": [],
   "source": [
    "# split/join"
   ]
  },
  {
   "cell_type": "code",
   "execution_count": 70,
   "id": "daedf590",
   "metadata": {},
   "outputs": [
    {
     "data": {
      "text/plain": [
       "['i', 'am', 'shahiudl', 'haque', 'shaheen']"
      ]
     },
     "execution_count": 70,
     "metadata": {},
     "output_type": "execute_result"
    }
   ],
   "source": [
    "'i am shahiudl haque shaheen'.split()"
   ]
  },
  {
   "cell_type": "code",
   "execution_count": 71,
   "id": "2f8f66fa",
   "metadata": {},
   "outputs": [
    {
     "data": {
      "text/plain": [
       "'i am shahiudl haque shaheen'"
      ]
     },
     "execution_count": 71,
     "metadata": {},
     "output_type": "execute_result"
    }
   ],
   "source": [
    "' '.join(['i', 'am', 'shahiudl', 'haque', 'shaheen'])"
   ]
  },
  {
   "cell_type": "code",
   "execution_count": 72,
   "id": "5c3664d8",
   "metadata": {},
   "outputs": [],
   "source": [
    "# rplace/ strip"
   ]
  },
  {
   "cell_type": "code",
   "execution_count": 76,
   "id": "f9235936",
   "metadata": {},
   "outputs": [
    {
     "data": {
      "text/plain": [
       "'hi my name is nizam'"
      ]
     },
     "execution_count": 76,
     "metadata": {},
     "output_type": "execute_result"
    }
   ],
   "source": [
    "'hi my name is shahen'.replace('shahen','nizam')"
   ]
  },
  {
   "cell_type": "code",
   "execution_count": 75,
   "id": "509214e0",
   "metadata": {},
   "outputs": [
    {
     "data": {
      "text/plain": [
       "'shaheen'"
      ]
     },
     "execution_count": 75,
     "metadata": {},
     "output_type": "execute_result"
    }
   ],
   "source": [
    "'shaheen                           '.strip()"
   ]
  },
  {
   "cell_type": "markdown",
   "id": "f4cfe66b",
   "metadata": {},
   "source": [
    "## Problems"
   ]
  },
  {
   "cell_type": "code",
   "execution_count": 3,
   "id": "649f45ae",
   "metadata": {},
   "outputs": [
    {
     "name": "stdout",
     "output_type": "stream",
     "text": [
      "Enter your string here: shaheen\n",
      "Length of the string is : 7\n"
     ]
    }
   ],
   "source": [
    "# Find the length of a given string without using the len() function\n",
    "\n",
    "st = input('Enter your string here: ')\n",
    "c = 0\n",
    "\n",
    "for i in st:\n",
    "    c += 1\n",
    "print('Length of the string is :', c)"
   ]
  },
  {
   "cell_type": "code",
   "execution_count": 5,
   "id": "e8ce4693",
   "metadata": {},
   "outputs": [
    {
     "name": "stdout",
     "output_type": "stream",
     "text": [
      "Enter your mail id here : shaheen@gmail.com\n",
      "shaheen\n"
     ]
    }
   ],
   "source": [
    "# Extract username from a given email. \n",
    "# Eg if the email is nitish24singh@gmail.com \n",
    "# then the username should be nitish24singh\n",
    "\n",
    "mail = input('Enter your mail id here : ')\n",
    "\n",
    "temp = mail.index('@')\n",
    "print(mail[:temp])"
   ]
  },
  {
   "cell_type": "code",
   "execution_count": 7,
   "id": "9d1569ae",
   "metadata": {},
   "outputs": [
    {
     "name": "stdout",
     "output_type": "stream",
     "text": [
      "Enter your string here : sshaheeeeen\n",
      "Enter the character here : s\n",
      "Frequency : 2\n"
     ]
    }
   ],
   "source": [
    "# Count the frequency of a particular character in a provided string. \n",
    "# Eg 'hello how are you' is the string, the frequency of h in this string is 2.\n",
    "\n",
    "s = input('Enter your string here : ')\n",
    "ch = input('Enter the character here : ')\n",
    "c = 0\n",
    "\n",
    "for i in s:\n",
    "    if i == ch:\n",
    "        c += 1\n",
    "print('Frequency :',c)"
   ]
  },
  {
   "cell_type": "code",
   "execution_count": 10,
   "id": "79c5d119",
   "metadata": {},
   "outputs": [
    {
     "name": "stdout",
     "output_type": "stream",
     "text": [
      "enter the string shaheen\n",
      "what would like to remove s\n",
      "haheen\n"
     ]
    }
   ],
   "source": [
    "# Write a program which can remove a particular character from a string.\n",
    "s = input('enter the string ')\n",
    "term = input('what would like to remove ')\n",
    "\n",
    "result = ''\n",
    "\n",
    "for i in s:\n",
    "    if i != term:\n",
    "        result += i\n",
    "print(result)"
   ]
  },
  {
   "cell_type": "code",
   "execution_count": 17,
   "id": "879d7c29",
   "metadata": {},
   "outputs": [
    {
     "name": "stdout",
     "output_type": "stream",
     "text": [
      "Enter your string here : malayalam\n",
      "Palindrome\n"
     ]
    }
   ],
   "source": [
    "# Write a program that can check whether a given string is palindrome or not.\n",
    "# abba\n",
    "# amma\n",
    "\n",
    "s = input('Enter your string here : ')\n",
    "flag = True\n",
    "for i in range(len(s) // 2):\n",
    "    if s[i] != s[len(s) - 1 - i]:\n",
    "        print('Not a palindrome')\n",
    "        flag = False\n",
    "        break\n",
    "if flag:\n",
    "    print('Palindrome')"
   ]
  },
  {
   "cell_type": "code",
   "execution_count": 19,
   "id": "b2136ac5",
   "metadata": {},
   "outputs": [
    {
     "name": "stdout",
     "output_type": "stream",
     "text": [
      "Enter your string here : hi i am shahidul haque shaheen\n",
      "['hi', 'i', 'am', 'shahidul', 'haque', 'shaheen']\n"
     ]
    }
   ],
   "source": [
    "# Write a program to count the number of words in a string without split()\n",
    "\n",
    "s = input('Enter your string here : ')\n",
    "s += ' '\n",
    "lst = list()\n",
    "\n",
    "temp = ''\n",
    "\n",
    "for i in s:\n",
    "    if i != ' ':\n",
    "        temp += i\n",
    "    else:\n",
    "        lst.append(temp)\n",
    "        temp = ''\n",
    "        \n",
    "print(lst)"
   ]
  },
  {
   "cell_type": "code",
   "execution_count": 24,
   "id": "56d95a99",
   "metadata": {},
   "outputs": [
    {
     "name": "stdout",
     "output_type": "stream",
     "text": [
      "Enter your string here : hi shahidul haque shaheen\n",
      "Hi Shahidul Haque Shaheen\n"
     ]
    }
   ],
   "source": [
    "# Write a python program to convert a string to title case without using the title()\n",
    "st  = input('Enter your string here : ')\n",
    "lst = list()\n",
    "for i in st.split():\n",
    "    lst.append(i[0].upper()+i[1:].lower())\n",
    "    \n",
    "print(' '.join(lst))"
   ]
  },
  {
   "cell_type": "code",
   "execution_count": 2,
   "id": "ee21307b",
   "metadata": {},
   "outputs": [
    {
     "name": "stdout",
     "output_type": "stream",
     "text": [
      "Enter your number : 234\n",
      "<class 'str'>\n"
     ]
    }
   ],
   "source": [
    "#  Write a program that can convert an integer to string without built in function.\n",
    "\n",
    "num = int(input('Enter your number : '))\n",
    "\n",
    "digits = '0123456789'\n",
    "result = ''\n",
    "\n",
    "while num != 0:\n",
    "    \n",
    "    temp = num % 10\n",
    "    result = digits[temp] + result\n",
    "    num = num // 10\n",
    "print(type(result))\n",
    "    \n",
    "    \n"
   ]
  },
  {
   "cell_type": "code",
   "execution_count": 9,
   "id": "30d1a47b",
   "metadata": {},
   "outputs": [
    {
     "name": "stdout",
     "output_type": "stream",
     "text": [
      "(1,)\n",
      "(2,)\n",
      "(3,)\n",
      "(4,)\n",
      "(1, 2)\n",
      "(1, 3)\n",
      "(1, 4)\n",
      "(2, 3)\n",
      "(2, 4)\n",
      "(3, 4)\n",
      "(1, 2, 3)\n",
      "(1, 2, 4)\n",
      "(1, 3, 4)\n",
      "(2, 3, 4)\n",
      "(1, 2, 3, 4)\n"
     ]
    }
   ],
   "source": [
    "for i in range(1,4):\n",
    "    for j in range\n"
   ]
  },
  {
   "cell_type": "code",
   "execution_count": 10,
   "id": "b69b5563",
   "metadata": {},
   "outputs": [
    {
     "name": "stdout",
     "output_type": "stream",
     "text": [
      "1 2 3 4\n",
      "1 2 4 3\n",
      "1 3 2 4\n",
      "1 3 4 2\n",
      "1 4 2 3\n",
      "1 4 3 2\n",
      "2 1 3 4\n",
      "2 1 4 3\n",
      "2 3 1 4\n",
      "2 3 4 1\n",
      "2 4 1 3\n",
      "2 4 3 1\n",
      "3 1 2 4\n",
      "3 1 4 2\n",
      "3 2 1 4\n",
      "3 2 4 1\n",
      "3 4 1 2\n",
      "3 4 2 1\n",
      "4 1 2 3\n",
      "4 1 3 2\n",
      "4 2 1 3\n",
      "4 2 3 1\n",
      "4 3 1 2\n",
      "4 3 2 1\n"
     ]
    }
   ],
   "source": [
    "from itertools import permutations\n",
    "\n",
    "def print_unique_permutations(elements):\n",
    "    for perm in permutations(elements):\n",
    "        print(\" \".join(map(str, perm)))\n",
    "\n",
    "# Set the elements\n",
    "numbers = [1, 2, 3, 4]\n",
    "\n",
    "# Print all unique permutations\n",
    "print_unique_permutations(numbers)\n"
   ]
  },
  {
   "cell_type": "code",
   "execution_count": 12,
   "id": "292aa9e6",
   "metadata": {},
   "outputs": [
    {
     "name": "stdout",
     "output_type": "stream",
     "text": [
      "<itertools.permutations object at 0x000001B5E52A1030>\n"
     ]
    }
   ],
   "source": [
    " print(permutations([1,2,3,4]))"
   ]
  },
  {
   "cell_type": "code",
   "execution_count": 14,
   "id": "3bf2f1ab",
   "metadata": {},
   "outputs": [
    {
     "name": "stdout",
     "output_type": "stream",
     "text": [
      "Enter a decimal number: 10\n",
      "1010\n"
     ]
    }
   ],
   "source": [
    "# Write a program that will take a decimal number as input and prints out the binary equivalent of the number\n",
    "\n",
    "decimal_input = int(input(\"Enter a decimal number: \"))\n",
    "result = ''\n",
    "\n",
    "if decimal_input == 0:\n",
    "    print(str(0))\n",
    "    \n",
    "else:\n",
    "    \n",
    "    while decimal_input != 0:\n",
    "        reminder = decimal_input % 2\n",
    "        result = str(reminder) + result\n",
    "        decimal_input = decimal_input // 2\n",
    "        \n",
    "print(result)\n"
   ]
  },
  {
   "cell_type": "code",
   "execution_count": 2,
   "id": "7c6a47ca",
   "metadata": {},
   "outputs": [
    {
     "name": "stdout",
     "output_type": "stream",
     "text": [
      "Enter your string here : Data science mentorship program\n",
      "DSMP\n"
     ]
    }
   ],
   "source": [
    "# Create Short Form from initial character\n",
    "# Given a string create short form ofthe string from Initial character. Short form should be capitalised.\n",
    "\n",
    "s = input('Enter your string here : ')\n",
    "r = ''\n",
    "for i in s.split():\n",
    "    r = r + i[0].upper()\n",
    "\n",
    "print(r)"
   ]
  },
  {
   "cell_type": "code",
   "execution_count": 3,
   "id": "566522e9",
   "metadata": {},
   "outputs": [
    {
     "name": "stdout",
     "output_type": "stream",
     "text": [
      "campus\n",
      "data\n",
      "camdatapus\n"
     ]
    }
   ],
   "source": [
    "# Append second string in the middle of first string\n",
    "'''\n",
    "Input:\n",
    "campusx\n",
    "data\n",
    "\n",
    "Output:\n",
    "camdatapusx\n",
    "'''\n",
    "s1 = input()\n",
    "s2 = input()\n",
    "r = s1[:len(s1) // 2] + s2 + s1[len(s1) // 2 :]\n",
    "print(r)"
   ]
  },
  {
   "cell_type": "code",
   "execution_count": 6,
   "id": "bb105f44",
   "metadata": {},
   "outputs": [
    {
     "name": "stdout",
     "output_type": "stream",
     "text": [
      "PyNaTive\n",
      "yaivePNT\n"
     ]
    }
   ],
   "source": [
    "'''\n",
    "Given string contains a combination of the lower and upper case letters. Write a program to arrange the characters of a string so that all lowercase letters should come first.\n",
    "Given:\n",
    "str1 = PyNaTive\n",
    "\n",
    "Expected Output:\n",
    "yaivePNT\n",
    "'''\n",
    "s = input()\n",
    "r1 = ''\n",
    "r2 = ''\n",
    "\n",
    "for i in s:\n",
    "    if i == i.lower():\n",
    "        r1 += i\n",
    "    else:\n",
    "        r2 += i\n",
    "print(r1+r2)"
   ]
  },
  {
   "cell_type": "code",
   "execution_count": 17,
   "id": "975a383e",
   "metadata": {},
   "outputs": [
    {
     "name": "stdout",
     "output_type": "stream",
     "text": [
      "Enter your string here : hel123O4every093\n",
      "Sum: 22\n",
      "Avg: 3.142857142857143\n"
     ]
    }
   ],
   "source": [
    "'''\n",
    "Take a alphanumeric string input and print the sum and average of the digits that appear in the string,\n",
    "ignoring all other characters.\n",
    "Input:\n",
    "hel123O4every093\n",
    "\n",
    "Output:\n",
    "Sum: 22\n",
    "Avg: 2.75\n",
    "'''\n",
    "\n",
    "s = input('Enter your string here : ')\n",
    "lst = list()\n",
    "for i in s:\n",
    "    #print(i)\n",
    "    if i.isdigit():\n",
    "        lst.append(int(i))\n",
    "        \n",
    "print('Sum:',sum(lst))\n",
    "print('Avg:',sum(lst)/len(lst))\n",
    "    "
   ]
  },
  {
   "cell_type": "code",
   "execution_count": 18,
   "id": "402b521a",
   "metadata": {},
   "outputs": [
    {
     "name": "stdout",
     "output_type": "stream",
     "text": [
      "I am 25 years and 10 months old\n",
      "2510\n"
     ]
    }
   ],
   "source": [
    "'''\n",
    "Removal of all characters from a string except integers\n",
    "Given:\n",
    "str1 = 'I am 25 years and 10 months old'\n",
    "\n",
    "Expected Output:\n",
    "2510\n",
    "'''\n",
    "s = input()\n",
    "r = ''\n",
    "for i in s:\n",
    "    if i.isdigit():\n",
    "        r += i\n",
    "print(r)"
   ]
  },
  {
   "cell_type": "code",
   "execution_count": 27,
   "id": "bcfa97b2",
   "metadata": {},
   "outputs": [
    {
     "name": "stdout",
     "output_type": "stream",
     "text": [
      "khokho\n",
      "The entered string is symmetrical\n"
     ]
    }
   ],
   "source": [
    "'''\n",
    "Check whether the string is Symmetrical.\n",
    "Statement: Given a string. the task is to check if the string is symmetrical or not. \n",
    "A string is said to be symmetrical if both the halves of the string are the same.\n",
    "\n",
    "Input:\n",
    "khokho\n",
    "\n",
    "Output:\n",
    "The entered string is symmetrical\n",
    "'''\n",
    "\n",
    "def is_symmetrical(s):\n",
    "    \n",
    "    if len(s) % 2 == 0:\n",
    "        return s[:len(s) // 2] == s[len(s) // 2 :]\n",
    "    else:\n",
    "        return s[:len(s) // 2] == s[(len(s) // 2)+1 :]\n",
    "\n",
    "s = input()\n",
    "if is_symmetrical(s):\n",
    "    print(\"The entered string is symmetrical\")\n",
    "else:\n",
    "    print(\"The entered string is not symmetrical\")\n"
   ]
  },
  {
   "cell_type": "code",
   "execution_count": 59,
   "id": "234b4901",
   "metadata": {},
   "outputs": [
    {
     "name": "stdout",
     "output_type": "stream",
     "text": [
      "my name is shaheen\n",
      "shaheen is name my \n"
     ]
    }
   ],
   "source": [
    "'''\n",
    "Reverse words in a given String\n",
    "Statement: We are given a string and we need to reverse words of a given string.\n",
    "\n",
    "Input:\n",
    "geeks quiz practice code\n",
    "\n",
    "Output:\n",
    "code practice quiz geeks\n",
    "'''\n",
    "s = input()\n",
    "r = ''\n",
    "\n",
    "for i in s.split():\n",
    "    \n",
    "    r = i+' ' + r\n",
    "r.strip()\n",
    "    \n",
    "print(r)\n",
    "    "
   ]
  },
  {
   "cell_type": "code",
   "execution_count": 39,
   "id": "848fe67c",
   "metadata": {},
   "outputs": [
    {
     "name": "stdout",
     "output_type": "stream",
     "text": [
      "{'apple': 1, 'banana': 2, 'mango': 2, 'fruits': 1}\n",
      "['apple', 'fruits']\n"
     ]
    }
   ],
   "source": [
    "'''\n",
    "Find uncommon words from two Strings.\n",
    "Statement: Given two sentences as strings A and B. The task is to return a list of all uncommon words. A word is uncommon if it appears exactly once in any one of the sentences, and does not appear in the other sentence. Note: A sentence is a string of space-separated words. Each word consists only of lowercase letters.\n",
    "Input:\n",
    "A = \"apple banana mango\" \n",
    "B = \"banana fruits mango\"\n",
    "Output:\n",
    "['apple', 'fruits']\n",
    "'''\n",
    "def uncommon_words(A, B):\n",
    "    \n",
    "    all_words = A.split() + B.split()\n",
    "    dct = {}\n",
    "    for word in all_words:\n",
    "        if word not in dct:\n",
    "            dct[word] = 1\n",
    "        else:\n",
    "            dct[word] += 1\n",
    "            \n",
    "    print(dct)    \n",
    "    \n",
    "    uncommon_words_list = [word for word in all_words if dct[word] == 1]\n",
    "\n",
    "    return uncommon_words_list\n",
    "\n",
    "\n",
    "A = \"apple banana mango\"\n",
    "B = \"banana fruits mango\"\n",
    "result = uncommon_words(A, B)\n",
    "print(result)\n"
   ]
  },
  {
   "cell_type": "code",
   "execution_count": 42,
   "id": "69aa637c",
   "metadata": {},
   "outputs": [
    {
     "name": "stdout",
     "output_type": "stream",
     "text": [
      "Enter your sentence here : We can learn data science through campusx mentorship program\n",
      "Enter the word you are to get the position of itcampusx\n",
      "Location of the word is 7\n"
     ]
    }
   ],
   "source": [
    "'''\n",
    "Word location in String.\n",
    "Statement: Find a location of a word in a given sentence.\n",
    "\n",
    "Input:\n",
    "Sentence: We can learn data science through campusx mentorship program.\n",
    "word: campusx\n",
    "\n",
    "Output:\n",
    "Location of the word is 7.\n",
    "'''\n",
    "s = input('Enter your sentence here : ')\n",
    "word = input('Enter the word you are to get the position of it')\n",
    "\n",
    "for i in s.split():\n",
    "    if i == word:\n",
    "        print('Location of the word is',(s.split().index(i))+1)"
   ]
  },
  {
   "cell_type": "code",
   "execution_count": 49,
   "id": "bdddb702",
   "metadata": {},
   "outputs": [
    {
     "name": "stdout",
     "output_type": "stream",
     "text": [
      "{'t', 'o', 'n', 'a', 'i', 'g', 'e', 'c', 'r', 's', ' ', 'm', 'p'}\n",
      "['p', 'r', 'o', 'g', 'a', 'm', 'i', 'n', ' ', 'c', 't', 'e', 's']\n",
      "progamin ctes\n"
     ]
    }
   ],
   "source": [
    "'''\n",
    "Write a program that can remove all the duplicate characters from a string. User will provide the input.\n",
    "'''\n",
    "def remove_duplicates(input_string):\n",
    "    \n",
    "    unique_characters = set()\n",
    "    result_list = []\n",
    "\n",
    "    for char in input_string:\n",
    "        \n",
    "        if char not in unique_characters:\n",
    "            unique_characters.add(char)\n",
    "            result_list.append(char)\n",
    "            \n",
    "    \n",
    "    print(unique_characters)\n",
    "    print(result_list)\n",
    "    result_string = ''.join(result_list)\n",
    "    \n",
    "    return result_string\n",
    "\n",
    "\n",
    "input_str = \"programming contest\"\n",
    "result = remove_duplicates(input_str)\n",
    "print(result)\n"
   ]
  },
  {
   "cell_type": "code",
   "execution_count": 51,
   "id": "5d04b5fe",
   "metadata": {},
   "outputs": [],
   "source": [
    "# string is immutable"
   ]
  },
  {
   "cell_type": "code",
   "execution_count": 56,
   "id": "499b23fb",
   "metadata": {},
   "outputs": [
    {
     "data": {
      "text/plain": [
       "4"
      ]
     },
     "execution_count": 56,
     "metadata": {},
     "output_type": "execute_result"
    }
   ],
   "source": [
    "s = \"   fly me   to   the moon  \"\n",
    "s = s.split()\n",
    "s = s[-1]\n",
    "len(s)"
   ]
  },
  {
   "cell_type": "code",
   "execution_count": null,
   "id": "ff21a1e1",
   "metadata": {},
   "outputs": [],
   "source": [
    "        r = ''\n",
    "        for i in s.strip().split():\n",
    "            if i == s.strip().split()[0]:\n",
    "                r = i+r\n",
    "            else:\n",
    "                r = i+' ' + r\n",
    "        return r"
   ]
  }
 ],
 "metadata": {
  "kernelspec": {
   "display_name": "Python 3 (ipykernel)",
   "language": "python",
   "name": "python3"
  },
  "language_info": {
   "codemirror_mode": {
    "name": "ipython",
    "version": 3
   },
   "file_extension": ".py",
   "mimetype": "text/x-python",
   "name": "python",
   "nbconvert_exporter": "python",
   "pygments_lexer": "ipython3",
   "version": "3.11.4"
  }
 },
 "nbformat": 4,
 "nbformat_minor": 5
}
