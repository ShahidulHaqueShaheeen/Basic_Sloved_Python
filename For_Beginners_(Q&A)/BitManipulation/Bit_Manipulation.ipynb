{
 "cells": [
  {
   "cell_type": "markdown",
   "id": "f716253e",
   "metadata": {},
   "source": [
    "# Count the number of (set & clear) bit are there in a given number"
   ]
  },
  {
   "cell_type": "code",
   "execution_count": 1,
   "id": "d3610c45",
   "metadata": {},
   "outputs": [
    {
     "data": {
      "text/plain": [
       "2"
      ]
     },
     "execution_count": 1,
     "metadata": {},
     "output_type": "execute_result"
    }
   ],
   "source": [
    "def set_bits(N):\n",
    "    \n",
    "    c = 0\n",
    "    \n",
    "    while N:\n",
    "        \n",
    "        if (N & 1) == 1:\n",
    "            c += 1\n",
    "        N >>= 1\n",
    "    return c\n",
    "set_bits(6)"
   ]
  },
  {
   "cell_type": "code",
   "execution_count": 2,
   "id": "66ce9928",
   "metadata": {},
   "outputs": [
    {
     "data": {
      "text/plain": [
       "1"
      ]
     },
     "execution_count": 2,
     "metadata": {},
     "output_type": "execute_result"
    }
   ],
   "source": [
    "def clear_bits(N):\n",
    "    \n",
    "    c = 0\n",
    "    \n",
    "    while N:\n",
    "        \n",
    "        if (N & 1) == 0:\n",
    "            c += 1\n",
    "        N >>= 1\n",
    "        \n",
    "    return c\n",
    "clear_bits(6)"
   ]
  },
  {
   "cell_type": "markdown",
   "id": "f21f9b8b",
   "metadata": {},
   "source": [
    "# Check whether a number is even/odd using bit manipulation"
   ]
  },
  {
   "cell_type": "code",
   "execution_count": 3,
   "id": "c11d810a",
   "metadata": {},
   "outputs": [
    {
     "name": "stdout",
     "output_type": "stream",
     "text": [
      "Number is Even\n",
      "Number is Odd\n"
     ]
    }
   ],
   "source": [
    "def even_odd(N):\n",
    "    \n",
    "    if (N & 1) == 1:\n",
    "        print('Number is Odd')\n",
    "    else:\n",
    "        print('Number is Even')\n",
    "        \n",
    "even_odd(4)\n",
    "even_odd(5)"
   ]
  },
  {
   "cell_type": "markdown",
   "id": "828c64b3",
   "metadata": {},
   "source": [
    "# Find the two non-repeating elements in an array of repeating elements"
   ]
  },
  {
   "cell_type": "code",
   "execution_count": 7,
   "id": "23b17c7a",
   "metadata": {},
   "outputs": [
    {
     "name": "stdout",
     "output_type": "stream",
     "text": [
      "[3, 4]\n"
     ]
    }
   ],
   "source": [
    "# Using sorting approach\n",
    "def findNonRepeating(arr):\n",
    "    arr.sort()\n",
    "    r = []\n",
    "    i = 0\n",
    "    while i < len(arr):\n",
    "        \n",
    "        if i + 1 < len(arr) and arr[i] == arr[i+1]:\n",
    "            i += 2\n",
    "        else:\n",
    "            r.append(arr[i])\n",
    "            i += 1\n",
    "    return r\n",
    "\n",
    "arr = [1, 2, 3, 2, 1, 4]\n",
    "result = findNonRepeating(arr)\n",
    "print(result)"
   ]
  },
  {
   "cell_type": "code",
   "execution_count": 10,
   "id": "d86c6f32",
   "metadata": {},
   "outputs": [
    {
     "name": "stdout",
     "output_type": "stream",
     "text": [
      "[3, 4]\n"
     ]
    }
   ],
   "source": [
    "# Using hashmap(Dictionary)\n",
    "\n",
    "def findNonRepeating(arr):\n",
    "    dct = {}\n",
    "    \n",
    "    for i in arr:\n",
    "        # dct[i] = dct.get(i,0)+1\n",
    "        if i not in dct:\n",
    "            dct[i] = 1\n",
    "        else:\n",
    "            dct[i] += 1\n",
    "        \n",
    "    r = [i for i in arr if dct[i] == 1]\n",
    "    \n",
    "    return r\n",
    "\n",
    "arr = [1, 2, 3, 2, 1, 4]\n",
    "result = findNonRepeating(arr)\n",
    "print(result)\n"
   ]
  },
  {
   "cell_type": "code",
   "execution_count": 4,
   "id": "36ac2f95",
   "metadata": {},
   "outputs": [
    {
     "name": "stdout",
     "output_type": "stream",
     "text": [
      "1\n",
      "[3, 4]\n"
     ]
    }
   ],
   "source": [
    "# Using bit manipulaton\n",
    "\n",
    "\n",
    "def findNonRepeating(arr):\n",
    "    xor_r = 0\n",
    "    \n",
    "    for i in arr:\n",
    "        xor_r ^= i\n",
    "        \n",
    "    r_most_setbit = xor_r & ~(xor_r -1)\n",
    "    print(r_most_setbit)\n",
    "    x,y = 0,0\n",
    "    \n",
    "    for j in arr:\n",
    "        if j & r_most_setbit:\n",
    "            x ^= j\n",
    "        else:\n",
    "            y ^= j\n",
    "    \n",
    "    return sorted([x,y])\n",
    "\n",
    "arr = [1, 2, 3, 2, 1, 4]\n",
    "arr1 = [2,1,3,2]\n",
    "result = findNonRepeating(arr)\n",
    "print(result)\n"
   ]
  },
  {
   "cell_type": "markdown",
   "id": "c0b28a72",
   "metadata": {},
   "source": [
    "# Count number of bits to be flipped to convert A to B"
   ]
  },
  {
   "cell_type": "code",
   "execution_count": 22,
   "id": "8955e1b5",
   "metadata": {},
   "outputs": [
    {
     "name": "stdout",
     "output_type": "stream",
     "text": [
      "4\n",
      "3\n"
     ]
    }
   ],
   "source": [
    "def bit_flipped(a,b):\n",
    "    \n",
    "    temp = a ^ b\n",
    "    c = 0\n",
    "    while temp:\n",
    "        \n",
    "        if (temp & 1) == 1:\n",
    "            c += 1\n",
    "        temp >>= 1\n",
    "        \n",
    "    return c\n",
    "\n",
    "print(bit_flipped(10,20))\n",
    "print(bit_flipped(20,25))"
   ]
  },
  {
   "cell_type": "markdown",
   "id": "ce07e809",
   "metadata": {},
   "source": [
    "# You are given a number N. Find the total count of set bits for all numbers from 1 to N(both inclusive)"
   ]
  },
  {
   "cell_type": "code",
   "execution_count": 24,
   "id": "a144cc3b",
   "metadata": {},
   "outputs": [
    {
     "name": "stdout",
     "output_type": "stream",
     "text": [
      "5\n",
      "35\n"
     ]
    }
   ],
   "source": [
    "def countSetBits(n):\n",
    "    \n",
    "    c = 0\n",
    "    for N in range(1,n+1):\n",
    "        \n",
    "        while N:\n",
    "\n",
    "            if (N & 1) == 1:\n",
    "                c += 1\n",
    "            N >>= 1\n",
    "    return c\n",
    "\n",
    "print(countSetBits(4))\n",
    "print(countSetBits(17))"
   ]
  },
  {
   "cell_type": "code",
   "execution_count": 25,
   "id": "2d62a27a",
   "metadata": {},
   "outputs": [
    {
     "name": "stdout",
     "output_type": "stream",
     "text": [
      "3\n",
      "24\n"
     ]
    }
   ],
   "source": [
    "def countClearBits(n):\n",
    "    \n",
    "    c = 0\n",
    "    for N in range(1,n+1):\n",
    "        \n",
    "        while N:\n",
    "\n",
    "            if (N & 1) == 0:\n",
    "                c += 1\n",
    "            N >>= 1\n",
    "    return c\n",
    "\n",
    "print(countClearBits(4))\n",
    "print(countClearBits(17))"
   ]
  },
  {
   "cell_type": "markdown",
   "id": "7969754b",
   "metadata": {},
   "source": [
    "# Program to find whether a number is the power of 2"
   ]
  },
  {
   "cell_type": "code",
   "execution_count": 1,
   "id": "0872cdf4",
   "metadata": {},
   "outputs": [
    {
     "name": "stdout",
     "output_type": "stream",
     "text": [
      "NO\n",
      "YES\n"
     ]
    }
   ],
   "source": [
    "def is_power_of_2(N):\n",
    "    \n",
    "    c = 0\n",
    "    \n",
    "    while N:\n",
    "        if (N & 1) == 1:\n",
    "            c += 1\n",
    "        N >>= 1\n",
    "    return 'YES' if c == 1 else 'NO'\n",
    "\n",
    "print(is_power_of_2(6))\n",
    "print(is_power_of_2(32))"
   ]
  },
  {
   "cell_type": "markdown",
   "id": "a268215b",
   "metadata": {},
   "source": [
    "# Find the position of the only set bit"
   ]
  },
  {
   "cell_type": "code",
   "execution_count": 35,
   "id": "ffc3c797",
   "metadata": {},
   "outputs": [
    {
     "name": "stdout",
     "output_type": "stream",
     "text": [
      "-1\n",
      "5\n"
     ]
    }
   ],
   "source": [
    "def findPosition(N):\n",
    "    c = 0\n",
    "    pos  = 0\n",
    "    \n",
    "    while N:\n",
    "        if (N & 1) == 1:\n",
    "            c += 1\n",
    "        N >>= 1\n",
    "        pos += 1\n",
    "    return pos if c == 1 else -1\n",
    "\n",
    "print(findPosition(5))\n",
    "print(findPosition(16))"
   ]
  },
  {
   "cell_type": "code",
   "execution_count": 3,
   "id": "01af362f",
   "metadata": {},
   "outputs": [
    {
     "name": "stdout",
     "output_type": "stream",
     "text": [
      "Input: x = 10, y = 13, l = 2, r = 3\n",
      "Output: x = 14\n",
      "Input: x = 8, y = 7, l = 1, r = 2\n",
      "Output: x = 11\n"
     ]
    }
   ],
   "source": [
    "def setBitsInRange(x, y, l, r):\n",
    "    for i in range(l, r + 1):\n",
    "        # Check if the ith bit is set in y\n",
    "        if y & (1 << (i - 1)):\n",
    "            # Set the ith bit in x\n",
    "            x |= (1 << (i - 1))\n",
    "    \n",
    "    return x\n",
    "\n",
    "x1, y1, l1, r1 = 10, 13, 2, 3\n",
    "result1 = setBitsInRange(x1, y1, l1, r1)\n",
    "print(f\"Input: x = {x1}, y = {y1}, l = {l1}, r = {r1}\\nOutput: x = {result1}\")\n",
    "\n",
    "x2, y2, l2, r2 = 8, 7, 1, 2\n",
    "result2 = setBitsInRange(x2, y2, l2, r2)\n",
    "print(f\"Input: x = {x2}, y = {y2}, l = {l2}, r = {r2}\\nOutput: x = {result2}\")\n"
   ]
  },
  {
   "cell_type": "markdown",
   "id": "1e0099e4",
   "metadata": {},
   "source": [
    "# Divide two integers without using multiplication, division and mod operator"
   ]
  },
  {
   "cell_type": "code",
   "execution_count": 5,
   "id": "dc8f1fea",
   "metadata": {},
   "outputs": [
    {
     "name": "stdout",
     "output_type": "stream",
     "text": [
      "3\n"
     ]
    }
   ],
   "source": [
    "# Subtracting method\n",
    "\n",
    "def divide(a, b):\n",
    "    # Sign of the quotient\n",
    "    sign = -1 if (a < 0) ^ (b < 0) else 1\n",
    "    \n",
    "    # Convert both numbers to positive\n",
    "    a, b = abs(a), abs(b)\n",
    "\n",
    "    quotient = 0\n",
    "    while a >= b:\n",
    "        a -= b\n",
    "        quotient += 1\n",
    "\n",
    "    return sign * quotient\n",
    "\n",
    "# Example\n",
    "print(divide(10, 3)) \n"
   ]
  },
  {
   "cell_type": "markdown",
   "id": "7505c20c",
   "metadata": {},
   "source": [
    "# Calculate square of a number without using *, / and pow()"
   ]
  },
  {
   "cell_type": "code",
   "execution_count": 2,
   "id": "13c6fd0b",
   "metadata": {},
   "outputs": [
    {
     "data": {
      "text/plain": [
       "49"
      ]
     },
     "execution_count": 2,
     "metadata": {},
     "output_type": "execute_result"
    }
   ],
   "source": [
    "# A Simple Solution is to repeatedly add n to result.\n",
    "\n",
    "def square_of_num(n):\n",
    "    sum = 0\n",
    "    for i in range(n):\n",
    "        sum += n\n",
    "    return sum\n",
    "square_of_num(7)"
   ]
  },
  {
   "cell_type": "code",
   "execution_count": 5,
   "id": "136b187e",
   "metadata": {},
   "outputs": [
    {
     "name": "stdout",
     "output_type": "stream",
     "text": [
      "Enter a non-negative integer: 4\n",
      "The square of 4 is: 20\n"
     ]
    }
   ],
   "source": [
    "# using bit manipulation\n",
    "\n",
    "def square_using_bit_manipulation_iterative(number):\n",
    "    if number < 0:\n",
    "        return \"Input must be a non-negative integer.\"\n",
    "\n",
    "    if number == 0:\n",
    "        return 0\n",
    "\n",
    "    result = 0\n",
    "    while number > 1:\n",
    "        # Calculate half and square of half\n",
    "        half = number >> 1\n",
    "        half_square = result + (half << 1)  # square of half = result + 2 * half\n",
    "\n",
    "        # Check if the original number is even or odd\n",
    "        if number % 2 == 0:\n",
    "            result = half_square << 1  # square of original number = 2 * square of half\n",
    "        else:\n",
    "            result = (half_square << 1) + (half << 1) + 1  # square of original number = 2 * square of half + 2 * half + 1\n",
    "\n",
    "        number = half\n",
    "\n",
    "    return result\n",
    "\n",
    "# Example usage:\n",
    "number = int(input(\"Enter a non-negative integer: \"))\n",
    "result = square_using_bit_manipulation_iterative(number)\n",
    "print(f\"The square of {number} is: {result}\")\n",
    "\n",
    "\n"
   ]
  },
  {
   "cell_type": "code",
   "execution_count": 6,
   "id": "6f09df3f",
   "metadata": {},
   "outputs": [
    {
     "name": "stdout",
     "output_type": "stream",
     "text": [
      "Enter a non-negative integer: 5\n",
      "The square of 5 is: 25\n"
     ]
    }
   ],
   "source": [
    "def square_using_bit_manipulation(number):\n",
    "    if number < 0:\n",
    "        return \"Input must be a non-negative integer.\"\n",
    "\n",
    "    if number == 0:\n",
    "        return 0\n",
    "\n",
    "    if number == 1:\n",
    "        return 1\n",
    "\n",
    "    # Calculate half and square of half\n",
    "    half = number >> 1\n",
    "    half_square = square_using_bit_manipulation(half)\n",
    "\n",
    "    # Check if the original number is even or odd\n",
    "    if number % 2 == 0:\n",
    "        return half_square << 2  # square of original number = 4 * square of half\n",
    "    else:\n",
    "        return ((half_square << 2) + (half << 2) + 1)  # square of original number = 4 * square of half + 4 * half + 1\n",
    "\n",
    "# Example usage:\n",
    "number = int(input(\"Enter a non-negative integer: \"))\n",
    "result = square_using_bit_manipulation(number)\n",
    "print(f\"The square of {number} is: {result}\")\n"
   ]
  },
  {
   "cell_type": "code",
   "execution_count": 7,
   "id": "a10132ff",
   "metadata": {},
   "outputs": [
    {
     "data": {
      "text/plain": [
       "2"
      ]
     },
     "execution_count": 7,
     "metadata": {},
     "output_type": "execute_result"
    }
   ],
   "source": [
    "5 >> 1"
   ]
  },
  {
   "cell_type": "code",
   "execution_count": 11,
   "id": "7144eece",
   "metadata": {},
   "outputs": [
    {
     "name": "stdout",
     "output_type": "stream",
     "text": [
      "['a', 'ab', 'abc', 'ac', 'b', 'bc', 'c']\n",
      "['a', 'a', 'aa']\n"
     ]
    }
   ],
   "source": [
    "def AllPossibleStrings(s):\n",
    "    n = len(s)\n",
    "    result = []\n",
    "    \n",
    "    # Generate all possible subsequences\n",
    "    for i in range(1, 2**n):\n",
    "        subsequence = \"\"\n",
    "        for j in range(n):\n",
    "            #print(i >> j,'*')\n",
    "            if (i >> j) & 1:\n",
    "                #print((i >> j) & 1)\n",
    "                subsequence += s[j]\n",
    "        result.append(subsequence)\n",
    "    \n",
    "    # Sort the result lexicographically\n",
    "    result.sort()\n",
    "    \n",
    "    return result\n",
    "\n",
    "# Example usage:\n",
    "s1 = \"abc\"\n",
    "print(AllPossibleStrings(s1))  # Output: ['a', 'ab', 'abc', 'ac', 'b', 'bc', 'c']\n",
    "\n",
    "s2 = \"aa\"\n",
    "print(AllPossibleStrings(s2))  # Output: ['a', 'a', 'aa']\n"
   ]
  },
  {
   "cell_type": "code",
   "execution_count": null,
   "id": "3be5d978",
   "metadata": {},
   "outputs": [],
   "source": []
  }
 ],
 "metadata": {
  "kernelspec": {
   "display_name": "Python 3 (ipykernel)",
   "language": "python",
   "name": "python3"
  },
  "language_info": {
   "codemirror_mode": {
    "name": "ipython",
    "version": 3
   },
   "file_extension": ".py",
   "mimetype": "text/x-python",
   "name": "python",
   "nbconvert_exporter": "python",
   "pygments_lexer": "ipython3",
   "version": "3.11.4"
  }
 },
 "nbformat": 4,
 "nbformat_minor": 5
}
